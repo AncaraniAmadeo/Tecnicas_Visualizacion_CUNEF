{
 "cells": [
  {
   "cell_type": "markdown",
   "metadata": {},
   "source": [
    "Vamos a usar el paquete pyvis"
   ]
  },
  {
   "cell_type": "code",
   "execution_count": 1,
   "metadata": {
    "scrolled": true,
    "slideshow": {
     "slide_type": "fragment"
    }
   },
   "outputs": [
    {
     "name": "stdout",
     "output_type": "stream",
     "text": [
      "Collecting pyvis\n",
      "  Downloading pyvis-0.1.9-py3-none-any.whl (23 kB)\n",
      "Requirement already satisfied: jinja2>=2.9.6 in c:\\users\\ancar\\anaconda3\\lib\\site-packages (from pyvis) (2.11.3)\n",
      "Collecting jsonpickle>=1.4.1\n",
      "  Downloading jsonpickle-2.0.0-py2.py3-none-any.whl (37 kB)\n",
      "Requirement already satisfied: networkx>=1.11 in c:\\users\\ancar\\anaconda3\\lib\\site-packages (from pyvis) (2.5)\n",
      "Requirement already satisfied: ipython>=5.3.0 in c:\\users\\ancar\\anaconda3\\lib\\site-packages (from pyvis) (7.22.0)\n",
      "Requirement already satisfied: pygments in c:\\users\\ancar\\anaconda3\\lib\\site-packages (from ipython>=5.3.0->pyvis) (2.8.1)\n",
      "Requirement already satisfied: traitlets>=4.2 in c:\\users\\ancar\\anaconda3\\lib\\site-packages (from ipython>=5.3.0->pyvis) (5.0.5)\n",
      "Requirement already satisfied: pickleshare in c:\\users\\ancar\\anaconda3\\lib\\site-packages (from ipython>=5.3.0->pyvis) (0.7.5)\n",
      "Requirement already satisfied: decorator in c:\\users\\ancar\\anaconda3\\lib\\site-packages (from ipython>=5.3.0->pyvis) (5.0.6)\n",
      "Requirement already satisfied: backcall in c:\\users\\ancar\\anaconda3\\lib\\site-packages (from ipython>=5.3.0->pyvis) (0.2.0)\n",
      "Requirement already satisfied: colorama in c:\\users\\ancar\\anaconda3\\lib\\site-packages (from ipython>=5.3.0->pyvis) (0.4.4)\n",
      "Requirement already satisfied: setuptools>=18.5 in c:\\users\\ancar\\anaconda3\\lib\\site-packages (from ipython>=5.3.0->pyvis) (52.0.0.post20210125)\n",
      "Requirement already satisfied: prompt-toolkit!=3.0.0,!=3.0.1,<3.1.0,>=2.0.0 in c:\\users\\ancar\\anaconda3\\lib\\site-packages (from ipython>=5.3.0->pyvis) (3.0.17)\n",
      "Requirement already satisfied: jedi>=0.16 in c:\\users\\ancar\\anaconda3\\lib\\site-packages (from ipython>=5.3.0->pyvis) (0.17.2)\n",
      "Requirement already satisfied: parso<0.8.0,>=0.7.0 in c:\\users\\ancar\\anaconda3\\lib\\site-packages (from jedi>=0.16->ipython>=5.3.0->pyvis) (0.7.0)\n",
      "Requirement already satisfied: MarkupSafe>=0.23 in c:\\users\\ancar\\anaconda3\\lib\\site-packages (from jinja2>=2.9.6->pyvis) (1.1.1)\n",
      "Requirement already satisfied: wcwidth in c:\\users\\ancar\\anaconda3\\lib\\site-packages (from prompt-toolkit!=3.0.0,!=3.0.1,<3.1.0,>=2.0.0->ipython>=5.3.0->pyvis) (0.2.5)\n",
      "Requirement already satisfied: ipython-genutils in c:\\users\\ancar\\anaconda3\\lib\\site-packages (from traitlets>=4.2->ipython>=5.3.0->pyvis) (0.2.0)\n",
      "Installing collected packages: jsonpickle, pyvis\n",
      "Successfully installed jsonpickle-2.0.0 pyvis-0.1.9\n"
     ]
    }
   ],
   "source": [
    "#!pip install pyvis"
   ]
  },
  {
   "cell_type": "markdown",
   "metadata": {
    "slideshow": {
     "slide_type": "slide"
    }
   },
   "source": [
    "# Ejemplo de juego de tronos "
   ]
  },
  {
   "cell_type": "code",
   "execution_count": 2,
   "metadata": {
    "slideshow": {
     "slide_type": "slide"
    }
   },
   "outputs": [],
   "source": [
    "from pyvis.network import Network\n",
    "import pandas as pd"
   ]
  },
  {
   "cell_type": "code",
   "execution_count": 3,
   "metadata": {
    "slideshow": {
     "slide_type": "slide"
    }
   },
   "outputs": [],
   "source": [
    "got_net = Network(height=\"600px\", width=\"600px\")"
   ]
  },
  {
   "cell_type": "markdown",
   "metadata": {
    "slideshow": {
     "slide_type": "slide"
    }
   },
   "source": [
    "Una de las tareas más complicadas al crear un grafo es el layout (posicionar los nodos para que no se solapen)"
   ]
  },
  {
   "cell_type": "markdown",
   "metadata": {
    "slideshow": {
     "slide_type": "fragment"
    }
   },
   "source": [
    "Por eso en ocasiones se usa un motor físico: Se simula unas fuerzas físicas (gravedad, repulsión electromagnética y tensión elástica) para colocar los nodos de manera natural.\n",
    "\n"
   ]
  },
  {
   "cell_type": "code",
   "execution_count": 4,
   "metadata": {
    "slideshow": {
     "slide_type": "slide"
    }
   },
   "outputs": [],
   "source": [
    "# Barnes hut es un motor de física y con este comando lo activamos\n",
    "got_net.barnes_hut()"
   ]
  },
  {
   "cell_type": "code",
   "execution_count": 5,
   "metadata": {
    "slideshow": {
     "slide_type": "slide"
    }
   },
   "outputs": [],
   "source": [
    "# Preparación de los datos\n",
    "datos = pd.read_csv(\"https://www.macalester.edu/~abeverid/data/stormofswords.csv\")\n",
    "\n",
    "edges = list(zip(datos['Source'], datos['Target'], datos['Weight']))"
   ]
  },
  {
   "cell_type": "code",
   "execution_count": 6,
   "metadata": {
    "slideshow": {
     "slide_type": "slide"
    }
   },
   "outputs": [
    {
     "data": {
      "text/html": [
       "<div>\n",
       "<style scoped>\n",
       "    .dataframe tbody tr th:only-of-type {\n",
       "        vertical-align: middle;\n",
       "    }\n",
       "\n",
       "    .dataframe tbody tr th {\n",
       "        vertical-align: top;\n",
       "    }\n",
       "\n",
       "    .dataframe thead th {\n",
       "        text-align: right;\n",
       "    }\n",
       "</style>\n",
       "<table border=\"1\" class=\"dataframe\">\n",
       "  <thead>\n",
       "    <tr style=\"text-align: right;\">\n",
       "      <th></th>\n",
       "      <th>Source</th>\n",
       "      <th>Target</th>\n",
       "      <th>Weight</th>\n",
       "    </tr>\n",
       "  </thead>\n",
       "  <tbody>\n",
       "    <tr>\n",
       "      <th>0</th>\n",
       "      <td>Aemon</td>\n",
       "      <td>Grenn</td>\n",
       "      <td>5</td>\n",
       "    </tr>\n",
       "    <tr>\n",
       "      <th>1</th>\n",
       "      <td>Aemon</td>\n",
       "      <td>Samwell</td>\n",
       "      <td>31</td>\n",
       "    </tr>\n",
       "    <tr>\n",
       "      <th>2</th>\n",
       "      <td>Aerys</td>\n",
       "      <td>Jaime</td>\n",
       "      <td>18</td>\n",
       "    </tr>\n",
       "    <tr>\n",
       "      <th>3</th>\n",
       "      <td>Aerys</td>\n",
       "      <td>Robert</td>\n",
       "      <td>6</td>\n",
       "    </tr>\n",
       "    <tr>\n",
       "      <th>4</th>\n",
       "      <td>Aerys</td>\n",
       "      <td>Tyrion</td>\n",
       "      <td>5</td>\n",
       "    </tr>\n",
       "  </tbody>\n",
       "</table>\n",
       "</div>"
      ],
      "text/plain": [
       "  Source   Target  Weight\n",
       "0  Aemon    Grenn       5\n",
       "1  Aemon  Samwell      31\n",
       "2  Aerys    Jaime      18\n",
       "3  Aerys   Robert       6\n",
       "4  Aerys   Tyrion       5"
      ]
     },
     "execution_count": 6,
     "metadata": {},
     "output_type": "execute_result"
    }
   ],
   "source": [
    "datos.head()"
   ]
  },
  {
   "cell_type": "code",
   "execution_count": 7,
   "metadata": {
    "slideshow": {
     "slide_type": "slide"
    }
   },
   "outputs": [
    {
     "data": {
      "text/plain": [
       "[('Aemon', 'Grenn', 5),\n",
       " ('Aemon', 'Samwell', 31),\n",
       " ('Aerys', 'Jaime', 18),\n",
       " ('Aerys', 'Robert', 6)]"
      ]
     },
     "execution_count": 7,
     "metadata": {},
     "output_type": "execute_result"
    }
   ],
   "source": [
    "# Esto es lo que hace zip\n",
    "edges[0:4]"
   ]
  },
  {
   "cell_type": "markdown",
   "metadata": {
    "slideshow": {
     "slide_type": "slide"
    }
   },
   "source": [
    "- para añadir un nodo tenéis que usar el comando `add_node` de `got_net`. \n",
    "- el primer parámetro es un ID (que tiene que ser único) y el parámetro `label` es para poner nombre. Nota: en ID puedes usar un texto también, no hace falta que sea un número\n",
    "- puedes llamar dos veces a la función con el mismo ID. Simplemente se sobreescribe el anterior."
   ]
  },
  {
   "cell_type": "markdown",
   "metadata": {
    "slideshow": {
     "slide_type": "slide"
    }
   },
   "source": [
    "**Tarea: Haz un bucle for que recorra todos los  `edges` y añada los nodos de origen y destino**\n",
    "\n",
    "Pistas:\n",
    "- Mira la ayuda de add_node si no te acuerdas cómo usarlo!\n",
    "- No pasa nada si hay más de un edge por nodo. Es decir, si hay más de una relación por personaje. Si ejecutars add_node varias veces con el mismo ID todo irá ok"
   ]
  },
  {
   "cell_type": "code",
   "execution_count": 8,
   "metadata": {
    "slideshow": {
     "slide_type": "slide"
    }
   },
   "outputs": [],
   "source": [
    "for origen, destino, peso in edges:\n",
    "    got_net.add_node(origen, label=origen)\n",
    "    got_net.add_node(destino, label=destino)"
   ]
  },
  {
   "cell_type": "code",
   "execution_count": 9,
   "metadata": {
    "slideshow": {
     "slide_type": "slide"
    }
   },
   "outputs": [
    {
     "data": {
      "text/plain": [
       "[{'id': 'Aemon', 'label': 'Aemon', 'shape': 'dot'},\n",
       " {'id': 'Grenn', 'label': 'Grenn', 'shape': 'dot'},\n",
       " {'id': 'Samwell', 'label': 'Samwell', 'shape': 'dot'},\n",
       " {'id': 'Aerys', 'label': 'Aerys', 'shape': 'dot'}]"
      ]
     },
     "execution_count": 9,
     "metadata": {},
     "output_type": "execute_result"
    }
   ],
   "source": [
    "got_net.nodes[0:4]"
   ]
  },
  {
   "cell_type": "markdown",
   "metadata": {
    "slideshow": {
     "slide_type": "slide"
    }
   },
   "source": [
    "**Tarea 2: Añade en el bucle add_edges para añadir la conexión. Siempre se pone primero el origen y luego el destino. Si tienes un peso (como es el caso) se usa el parámetro `value`**"
   ]
  },
  {
   "cell_type": "code",
   "execution_count": 10,
   "metadata": {
    "slideshow": {
     "slide_type": "fragment"
    }
   },
   "outputs": [],
   "source": [
    "for origen, destino, peso in edges:\n",
    "    got_net.add_node(origen, origen)\n",
    "    got_net.add_node(destino, destino)\n",
    "    got_net.add_edge(origen, destino, value=peso)"
   ]
  },
  {
   "cell_type": "code",
   "execution_count": 11,
   "metadata": {
    "slideshow": {
     "slide_type": "slide"
    }
   },
   "outputs": [
    {
     "data": {
      "text/plain": [
       "[{'value': 5, 'from': 'Aemon', 'to': 'Grenn'},\n",
       " {'value': 31, 'from': 'Aemon', 'to': 'Samwell'},\n",
       " {'value': 18, 'from': 'Aerys', 'to': 'Jaime'},\n",
       " {'value': 6, 'from': 'Aerys', 'to': 'Robert'}]"
      ]
     },
     "execution_count": 11,
     "metadata": {},
     "output_type": "execute_result"
    }
   ],
   "source": [
    "got_net.edges[0:4]"
   ]
  },
  {
   "cell_type": "code",
   "execution_count": 12,
   "metadata": {
    "slideshow": {
     "slide_type": "slide"
    }
   },
   "outputs": [],
   "source": [
    "# Para ver el resultado\n",
    "got_net.show(\"tarea2.html\")"
   ]
  },
  {
   "cell_type": "markdown",
   "metadata": {
    "slideshow": {
     "slide_type": "slide"
    }
   },
   "source": [
    "A los nodos se le pueden añadir más parámetros:\n",
    "\n",
    "- https://visjs.github.io/vis-network/docs/network/\n",
    "- Importantes: title, shape y value\n",
    "- value: sirve para incrementar el tamaño del nodo\n",
    "- shape: forma del nodo\n",
    "- title: lo que aparece al pasar el ratón por el nodo"
   ]
  },
  {
   "cell_type": "markdown",
   "metadata": {
    "slideshow": {
     "slide_type": "slide"
    }
   },
   "source": [
    "Aunque es una librería de visualización se pueden hacer pequeños cálculos:"
   ]
  },
  {
   "cell_type": "code",
   "execution_count": 13,
   "metadata": {
    "slideshow": {
     "slide_type": "fragment"
    }
   },
   "outputs": [
    {
     "data": {
      "text/plain": [
       "{'Aemon': {'Grenn', 'Jon', 'Robert', 'Samwell', 'Stannis'},\n",
       " 'Grenn': {'Aemon', 'Eddison', 'Jon', 'Samwell'},\n",
       " 'Samwell': {'Aemon',\n",
       "  'Bowen',\n",
       "  'Bran',\n",
       "  'Craster',\n",
       "  'Eddison',\n",
       "  'Gilly',\n",
       "  'Grenn',\n",
       "  'Janos',\n",
       "  'Jojen',\n",
       "  'Jon',\n",
       "  'Mance',\n",
       "  'Meera',\n",
       "  'Melisandre',\n",
       "  'Qhorin',\n",
       "  'Stannis'},\n",
       " 'Aerys': {'Jaime', 'Robert', 'Tyrion', 'Tywin'},\n",
       " 'Jaime': {'Aerys',\n",
       "  'Arya',\n",
       "  'Balon',\n",
       "  'Barristan',\n",
       "  'Brienne',\n",
       "  'Catelyn',\n",
       "  'Cersei',\n",
       "  'Eddard',\n",
       "  'Edmure',\n",
       "  'Elia',\n",
       "  'Gregor',\n",
       "  'Joffrey',\n",
       "  'Loras',\n",
       "  'Meryn',\n",
       "  'Qyburn',\n",
       "  'Renly',\n",
       "  'Robb',\n",
       "  'Robert',\n",
       "  'Sansa',\n",
       "  'Stannis',\n",
       "  'Tommen',\n",
       "  'Tyrion',\n",
       "  'Tywin',\n",
       "  'Walton'},\n",
       " 'Robert': {'Aemon',\n",
       "  'Aerys',\n",
       "  'Arya',\n",
       "  'Barristan',\n",
       "  'Cersei',\n",
       "  'Daenerys',\n",
       "  'Eddard',\n",
       "  'Jaime',\n",
       "  'Jon',\n",
       "  'Jon Arryn',\n",
       "  'Renly',\n",
       "  'Rhaegar',\n",
       "  'Sandor',\n",
       "  'Sansa',\n",
       "  'Stannis',\n",
       "  'Thoros',\n",
       "  'Tyrion',\n",
       "  'Tywin'},\n",
       " 'Tyrion': {'Aerys',\n",
       "  'Arya',\n",
       "  'Balon',\n",
       "  'Bronn',\n",
       "  'Catelyn',\n",
       "  'Cersei',\n",
       "  'Chataya',\n",
       "  'Doran',\n",
       "  'Elia',\n",
       "  'Ellaria',\n",
       "  'Gregor',\n",
       "  'Ilyn',\n",
       "  'Jaime',\n",
       "  'Janos',\n",
       "  'Joffrey',\n",
       "  'Kevan',\n",
       "  'Loras',\n",
       "  'Lysa',\n",
       "  'Mace',\n",
       "  'Margaery',\n",
       "  'Meryn',\n",
       "  'Myrcella',\n",
       "  'Oberyn',\n",
       "  'Petyr',\n",
       "  'Podrick',\n",
       "  'Pycelle',\n",
       "  'Renly',\n",
       "  'Robb',\n",
       "  'Robert',\n",
       "  'Sandor',\n",
       "  'Sansa',\n",
       "  'Shae',\n",
       "  'Stannis',\n",
       "  'Tywin',\n",
       "  'Varys',\n",
       "  'Viserys'},\n",
       " 'Tywin': {'Aerys',\n",
       "  'Balon',\n",
       "  'Brynden',\n",
       "  'Cersei',\n",
       "  'Gregor',\n",
       "  'Jaime',\n",
       "  'Joffrey',\n",
       "  'Kevan',\n",
       "  'Lysa',\n",
       "  'Mace',\n",
       "  'Oberyn',\n",
       "  'Petyr',\n",
       "  'Podrick',\n",
       "  'Pycelle',\n",
       "  'Robb',\n",
       "  'Robert',\n",
       "  'Stannis',\n",
       "  'Tommen',\n",
       "  'Tyrion',\n",
       "  'Val',\n",
       "  'Varys',\n",
       "  'Walder'},\n",
       " 'Alliser': {'Janos', 'Jon', 'Mance'},\n",
       " 'Mance': {'Alliser',\n",
       "  'Craster',\n",
       "  'Dalla',\n",
       "  'Gilly',\n",
       "  'Janos',\n",
       "  'Jon',\n",
       "  'Qhorin',\n",
       "  'Rattleshirt',\n",
       "  'Samwell',\n",
       "  'Styr',\n",
       "  'Val',\n",
       "  'Ygritte'},\n",
       " 'Amory': {'Oberyn'},\n",
       " 'Oberyn': {'Amory',\n",
       "  'Ellaria',\n",
       "  'Gregor',\n",
       "  'Joffrey',\n",
       "  'Mace',\n",
       "  'Tyrion',\n",
       "  'Tywin'},\n",
       " 'Arya': {'Anguy',\n",
       "  'Beric',\n",
       "  'Bran',\n",
       "  'Brynden',\n",
       "  'Cersei',\n",
       "  'Eddard',\n",
       "  'Gendry',\n",
       "  'Gregor',\n",
       "  'Jaime',\n",
       "  'Joffrey',\n",
       "  'Jon',\n",
       "  'Rickon',\n",
       "  'Robb',\n",
       "  'Robert',\n",
       "  'Roose',\n",
       "  'Sandor',\n",
       "  'Sansa',\n",
       "  'Thoros',\n",
       "  'Tyrion'},\n",
       " 'Anguy': {'Arya', 'Beric'},\n",
       " 'Beric': {'Anguy', 'Arya', 'Eddard', 'Gendry', 'Sandor', 'Thoros'},\n",
       " 'Bran': {'Arya',\n",
       "  'Catelyn',\n",
       "  'Eddard',\n",
       "  'Hodor',\n",
       "  'Jojen',\n",
       "  'Jon',\n",
       "  'Luwin',\n",
       "  'Meera',\n",
       "  'Nan',\n",
       "  'Rickon',\n",
       "  'Robb',\n",
       "  'Samwell',\n",
       "  'Sansa',\n",
       "  'Theon'},\n",
       " 'Brynden': {'Arya',\n",
       "  'Catelyn',\n",
       "  'Edmure',\n",
       "  'Lothar',\n",
       "  'Rickard',\n",
       "  'Robb',\n",
       "  'Tywin',\n",
       "  'Walder'},\n",
       " 'Cersei': {'Arya',\n",
       "  'Brienne',\n",
       "  'Bronn',\n",
       "  'Catelyn',\n",
       "  'Eddard',\n",
       "  'Elia',\n",
       "  'Gregor',\n",
       "  'Ilyn',\n",
       "  'Jaime',\n",
       "  'Joffrey',\n",
       "  'Lysa',\n",
       "  'Meryn',\n",
       "  'Pycelle',\n",
       "  'Robert',\n",
       "  'Sandor',\n",
       "  'Sansa',\n",
       "  'Shae',\n",
       "  'Tyrion',\n",
       "  'Tywin',\n",
       "  'Varys'},\n",
       " 'Gendry': {'Arya', 'Beric', 'Sandor', 'Thoros'},\n",
       " 'Gregor': {'Arya',\n",
       "  'Bronn',\n",
       "  'Cersei',\n",
       "  'Elia',\n",
       "  'Ilyn',\n",
       "  'Jaime',\n",
       "  'Joffrey',\n",
       "  'Meryn',\n",
       "  'Oberyn',\n",
       "  'Sandor',\n",
       "  'Tyrion',\n",
       "  'Tywin'},\n",
       " 'Joffrey': {'Arya',\n",
       "  'Cersei',\n",
       "  'Gregor',\n",
       "  'Ilyn',\n",
       "  'Jaime',\n",
       "  'Kevan',\n",
       "  'Loras',\n",
       "  'Margaery',\n",
       "  'Meryn',\n",
       "  'Myrcella',\n",
       "  'Oberyn',\n",
       "  'Robb',\n",
       "  'Sandor',\n",
       "  'Sansa',\n",
       "  'Stannis',\n",
       "  'Tommen',\n",
       "  'Tyrion',\n",
       "  'Tywin'},\n",
       " 'Jon': {'Aemon',\n",
       "  'Alliser',\n",
       "  'Arya',\n",
       "  'Bran',\n",
       "  'Craster',\n",
       "  'Dalla',\n",
       "  'Eddard',\n",
       "  'Eddison',\n",
       "  'Gilly',\n",
       "  'Grenn',\n",
       "  'Janos',\n",
       "  'Mance',\n",
       "  'Meera',\n",
       "  'Melisandre',\n",
       "  'Orell',\n",
       "  'Qhorin',\n",
       "  'Rattleshirt',\n",
       "  'Robb',\n",
       "  'Robert',\n",
       "  'Samwell',\n",
       "  'Sansa',\n",
       "  'Stannis',\n",
       "  'Styr',\n",
       "  'Theon',\n",
       "  'Val',\n",
       "  'Ygritte'},\n",
       " 'Rickon': {'Arya', 'Bran', 'Eddard', 'Robb', 'Sansa', 'Theon'},\n",
       " 'Roose': {'Arya', 'Brienne', 'Catelyn', 'Robb'},\n",
       " 'Sandor': {'Arya',\n",
       "  'Beric',\n",
       "  'Cersei',\n",
       "  'Eddard',\n",
       "  'Gendry',\n",
       "  'Gregor',\n",
       "  'Ilyn',\n",
       "  'Joffrey',\n",
       "  'Meryn',\n",
       "  'Robert',\n",
       "  'Sansa',\n",
       "  'Thoros',\n",
       "  'Tyrion'},\n",
       " 'Thoros': {'Arya', 'Beric', 'Gendry', 'Robert', 'Sandor'},\n",
       " 'Balon': {'Jaime', 'Loras', 'Robb', 'Stannis', 'Tyrion', 'Tywin'},\n",
       " 'Loras': {'Balon',\n",
       "  'Brienne',\n",
       "  'Jaime',\n",
       "  'Joffrey',\n",
       "  'Margaery',\n",
       "  'Olenna',\n",
       "  'Renly',\n",
       "  'Sansa',\n",
       "  'Tyrion'},\n",
       " 'Belwas': {'Barristan', 'Daenerys', 'Illyrio', 'Jorah'},\n",
       " 'Barristan': {'Belwas', 'Daenerys', 'Jaime', 'Jorah', 'Rhaegar', 'Robert'},\n",
       " 'Illyrio': {'Belwas'},\n",
       " 'Hodor': {'Bran', 'Jojen', 'Meera', 'Robb'},\n",
       " 'Jojen': {'Bran', 'Hodor', 'Meera', 'Samwell'},\n",
       " 'Luwin': {'Bran', 'Nan'},\n",
       " 'Meera': {'Bran', 'Hodor', 'Jojen', 'Jon', 'Samwell'},\n",
       " 'Nan': {'Bran', 'Luwin'},\n",
       " 'Theon': {'Bran', 'Jon', 'Rickon', 'Robb'},\n",
       " 'Brienne': {'Catelyn', 'Cersei', 'Jaime', 'Loras', 'Robb', 'Roose', 'Sansa'},\n",
       " 'Bronn': {'Cersei', 'Gregor', 'Podrick', 'Tyrion'},\n",
       " 'Podrick': {'Bronn', 'Margaery', 'Sansa', 'Tyrion', 'Tywin'},\n",
       " 'Lothar': {'Brynden', 'Edmure', 'Robb', 'Roslin', 'Walder'},\n",
       " 'Walder': {'Brynden',\n",
       "  'Catelyn',\n",
       "  'Edmure',\n",
       "  'Lothar',\n",
       "  'Petyr',\n",
       "  'Robb',\n",
       "  'Roslin',\n",
       "  'Tywin'},\n",
       " 'Catelyn': {'Bran',\n",
       "  'Brienne',\n",
       "  'Brynden',\n",
       "  'Cersei',\n",
       "  'Eddard',\n",
       "  'Edmure',\n",
       "  'Hoster',\n",
       "  'Jaime',\n",
       "  'Jeyne',\n",
       "  'Lysa',\n",
       "  'Petyr',\n",
       "  'Robb',\n",
       "  'Roose',\n",
       "  'Roslin',\n",
       "  'Sansa',\n",
       "  'Stannis',\n",
       "  'Tyrion',\n",
       "  'Walder'},\n",
       " 'Edmure': {'Brynden',\n",
       "  'Catelyn',\n",
       "  'Hoster',\n",
       "  'Jaime',\n",
       "  'Lothar',\n",
       "  'Robb',\n",
       "  'Roslin',\n",
       "  'Walder'},\n",
       " 'Hoster': {'Catelyn', 'Edmure', 'Lysa'},\n",
       " 'Jeyne': {'Catelyn', 'Robb'},\n",
       " 'Lysa': {'Catelyn',\n",
       "  'Cersei',\n",
       "  'Hoster',\n",
       "  'Jon Arryn',\n",
       "  'Marillion',\n",
       "  'Petyr',\n",
       "  'Robert Arryn',\n",
       "  'Sansa',\n",
       "  'Tyrion',\n",
       "  'Tywin'},\n",
       " 'Petyr': {'Catelyn', 'Lysa', 'Robb', 'Sansa', 'Tyrion', 'Tywin', 'Walder'},\n",
       " 'Robb': {'Arya',\n",
       "  'Balon',\n",
       "  'Bran',\n",
       "  'Brienne',\n",
       "  'Brynden',\n",
       "  'Catelyn',\n",
       "  'Eddard',\n",
       "  'Edmure',\n",
       "  'Hodor',\n",
       "  'Jaime',\n",
       "  'Jeyne',\n",
       "  'Joffrey',\n",
       "  'Jon',\n",
       "  'Lothar',\n",
       "  'Petyr',\n",
       "  'Ramsay',\n",
       "  'Rickard',\n",
       "  'Rickon',\n",
       "  'Roose',\n",
       "  'Sansa',\n",
       "  'Stannis',\n",
       "  'Theon',\n",
       "  'Tyrion',\n",
       "  'Tywin',\n",
       "  'Walder'},\n",
       " 'Roslin': {'Catelyn', 'Edmure', 'Lothar', 'Walder'},\n",
       " 'Sansa': {'Arya',\n",
       "  'Bran',\n",
       "  'Brienne',\n",
       "  'Catelyn',\n",
       "  'Cersei',\n",
       "  'Eddard',\n",
       "  'Jaime',\n",
       "  'Joffrey',\n",
       "  'Jon',\n",
       "  'Kevan',\n",
       "  'Loras',\n",
       "  'Lysa',\n",
       "  'Margaery',\n",
       "  'Marillion',\n",
       "  'Myrcella',\n",
       "  'Olenna',\n",
       "  'Petyr',\n",
       "  'Podrick',\n",
       "  'Renly',\n",
       "  'Rickon',\n",
       "  'Robb',\n",
       "  'Robert',\n",
       "  'Robert Arryn',\n",
       "  'Sandor',\n",
       "  'Shae',\n",
       "  'Tyrion'},\n",
       " 'Stannis': {'Aemon',\n",
       "  'Balon',\n",
       "  'Catelyn',\n",
       "  'Davos',\n",
       "  'Jaime',\n",
       "  'Joffrey',\n",
       "  'Jon',\n",
       "  'Melisandre',\n",
       "  'Renly',\n",
       "  'Robb',\n",
       "  'Robert',\n",
       "  'Samwell',\n",
       "  'Tyrion',\n",
       "  'Tywin'},\n",
       " 'Elia': {'Cersei', 'Gregor', 'Jaime', 'Rhaegar', 'Tyrion'},\n",
       " 'Ilyn': {'Cersei', 'Gregor', 'Joffrey', 'Meryn', 'Sandor', 'Tyrion'},\n",
       " 'Meryn': {'Cersei', 'Gregor', 'Ilyn', 'Jaime', 'Joffrey', 'Sandor', 'Tyrion'},\n",
       " 'Pycelle': {'Cersei', 'Tyrion', 'Tywin', 'Varys'},\n",
       " 'Shae': {'Cersei', 'Chataya', 'Sansa', 'Tyrion', 'Varys'},\n",
       " 'Varys': {'Cersei', 'Kevan', 'Pycelle', 'Renly', 'Shae', 'Tyrion', 'Tywin'},\n",
       " 'Craster': {'Gilly', 'Jon', 'Karl', 'Mance', 'Samwell'},\n",
       " 'Karl': {'Craster'},\n",
       " 'Daario': {'Daenerys', 'Drogo', 'Irri', 'Jorah'},\n",
       " 'Drogo': {'Daario', 'Daenerys', 'Irri', 'Jorah'},\n",
       " 'Irri': {'Daario', 'Daenerys', 'Drogo', 'Missandei'},\n",
       " 'Daenerys': {'Aegon',\n",
       "  'Barristan',\n",
       "  'Belwas',\n",
       "  'Daario',\n",
       "  'Drogo',\n",
       "  'Irri',\n",
       "  'Jorah',\n",
       "  'Kraznys',\n",
       "  'Missandei',\n",
       "  'Rakharo',\n",
       "  'Rhaegar',\n",
       "  'Robert',\n",
       "  'Viserys',\n",
       "  'Worm'},\n",
       " 'Aegon': {'Daenerys'},\n",
       " 'Jorah': {'Barristan', 'Belwas', 'Daario', 'Daenerys', 'Drogo', 'Rhaegar'},\n",
       " 'Kraznys': {'Daenerys'},\n",
       " 'Missandei': {'Daenerys', 'Irri'},\n",
       " 'Rakharo': {'Daenerys'},\n",
       " 'Rhaegar': {'Barristan', 'Daenerys', 'Elia', 'Jorah', 'Robert', 'Viserys'},\n",
       " 'Viserys': {'Daenerys', 'Rhaegar', 'Tyrion'},\n",
       " 'Worm': {'Daenerys'},\n",
       " 'Davos': {'Cressen', 'Melisandre', 'Salladhor', 'Shireen', 'Stannis'},\n",
       " 'Cressen': {'Davos'},\n",
       " 'Salladhor': {'Davos'},\n",
       " 'Eddard': {'Arya',\n",
       "  'Beric',\n",
       "  'Bran',\n",
       "  'Catelyn',\n",
       "  'Cersei',\n",
       "  'Jaime',\n",
       "  'Jon',\n",
       "  'Rickon',\n",
       "  'Robb',\n",
       "  'Robert',\n",
       "  'Sandor',\n",
       "  'Sansa'},\n",
       " 'Eddison': {'Grenn', 'Jon', 'Samwell'},\n",
       " 'Gilly': {'Craster', 'Jon', 'Mance', 'Samwell'},\n",
       " 'Qyburn': {'Jaime'},\n",
       " 'Renly': {'Jaime',\n",
       "  'Loras',\n",
       "  'Margaery',\n",
       "  'Robert',\n",
       "  'Sansa',\n",
       "  'Stannis',\n",
       "  'Tyrion',\n",
       "  'Varys'},\n",
       " 'Tommen': {'Jaime', 'Joffrey', 'Margaery', 'Myrcella', 'Tywin'},\n",
       " 'Janos': {'Alliser', 'Bowen', 'Jon', 'Mance', 'Samwell', 'Tyrion'},\n",
       " 'Bowen': {'Janos', 'Samwell'},\n",
       " 'Kevan': {'Joffrey', 'Lancel', 'Sansa', 'Tyrion', 'Tywin', 'Varys'},\n",
       " 'Margaery': {'Joffrey',\n",
       "  'Loras',\n",
       "  'Podrick',\n",
       "  'Renly',\n",
       "  'Sansa',\n",
       "  'Tommen',\n",
       "  'Tyrion'},\n",
       " 'Myrcella': {'Joffrey', 'Sansa', 'Tommen', 'Tyrion'},\n",
       " 'Dalla': {'Jon', 'Mance', 'Val'},\n",
       " 'Melisandre': {'Davos', 'Jon', 'Samwell', 'Stannis'},\n",
       " 'Orell': {'Jon'},\n",
       " 'Qhorin': {'Jon', 'Mance', 'Rattleshirt', 'Samwell', 'Ygritte'},\n",
       " 'Rattleshirt': {'Jon', 'Mance', 'Qhorin', 'Ygritte'},\n",
       " 'Styr': {'Jon', 'Mance'},\n",
       " 'Val': {'Dalla', 'Jon', 'Mance', 'Tywin'},\n",
       " 'Ygritte': {'Jon', 'Mance', 'Qhorin', 'Rattleshirt'},\n",
       " 'Jon Arryn': {'Lysa', 'Robert'},\n",
       " 'Lancel': {'Kevan'},\n",
       " 'Olenna': {'Loras', 'Sansa'},\n",
       " 'Marillion': {'Lysa', 'Robert Arryn', 'Sansa'},\n",
       " 'Robert Arryn': {'Lysa', 'Marillion', 'Sansa'},\n",
       " 'Ellaria': {'Oberyn', 'Tyrion'},\n",
       " 'Mace': {'Oberyn', 'Tyrion', 'Tywin'},\n",
       " 'Rickard': {'Brynden', 'Robb'},\n",
       " 'Ramsay': {'Robb'},\n",
       " 'Chataya': {'Shae', 'Tyrion'},\n",
       " 'Shireen': {'Davos'},\n",
       " 'Doran': {'Tyrion'},\n",
       " 'Walton': {'Jaime'}}"
      ]
     },
     "execution_count": 13,
     "metadata": {},
     "output_type": "execute_result"
    }
   ],
   "source": [
    "adyacencia = got_net.get_adj_list()\n",
    "adyacencia"
   ]
  },
  {
   "cell_type": "markdown",
   "metadata": {
    "slideshow": {
     "slide_type": "slide"
    }
   },
   "source": [
    "**Tarea3: usando el código anterior calcula en número de vecinos de cada nodo y añade en title: \"Este nodo tiene X vecinos\", en shape \"box\"  en value el numero de vecinos  (sólo para los orígenes, no los estinos)**\n",
    "\n",
    "Pista: Antes de hacer la gráfica calcula el número de vecinos para un personaje"
   ]
  },
  {
   "cell_type": "code",
   "execution_count": 14,
   "metadata": {
    "slideshow": {
     "slide_type": "slide"
    }
   },
   "outputs": [],
   "source": [
    "for origen, destino, peso in edges:\n",
    "    n_vecinos = len(adyacencia[origen])\n",
    "    got_net.add_node(origen, origen, title=f\"Este nodo tiene {n_vecinos} vecinos\", value=n_vecinos, shape=\"box\")\n",
    "    got_net.add_node(destino, destino)\n",
    "    got_net.add_edge(origen, destino, value=peso)"
   ]
  },
  {
   "cell_type": "code",
   "execution_count": 15,
   "metadata": {
    "slideshow": {
     "slide_type": "slide"
    }
   },
   "outputs": [],
   "source": [
    "got_net.show(\"tarea3.html\")"
   ]
  },
  {
   "cell_type": "markdown",
   "metadata": {
    "slideshow": {
     "slide_type": "slide"
    }
   },
   "source": [
    "# Configuración "
   ]
  },
  {
   "cell_type": "markdown",
   "metadata": {
    "slideshow": {
     "slide_type": "slide"
    }
   },
   "source": [
    "pyviz tiene una gran ventaja: puedes configurar en la própia gráfica sus parámetros (color, tamaño, ...)\n",
    "\n",
    "Para eso vamos a usar `show_buttons()` y después `.show()`\n",
    "\n",
    "Al acabar pueds copiar y pegar la configuración en python"
   ]
  },
  {
   "cell_type": "code",
   "execution_count": 60,
   "metadata": {
    "slideshow": {
     "slide_type": "slide"
    }
   },
   "outputs": [],
   "source": [
    "got_net.show_buttons() # Esto muestra la interfaz de configuración"
   ]
  },
  {
   "cell_type": "code",
   "execution_count": 59,
   "metadata": {
    "slideshow": {
     "slide_type": "slide"
    }
   },
   "outputs": [],
   "source": [
    "got_net.show(\"tarea3_botones.html\")"
   ]
  },
  {
   "cell_type": "code",
   "execution_count": 51,
   "metadata": {
    "slideshow": {
     "slide_type": "slide"
    }
   },
   "outputs": [],
   "source": [
    "got_net.set_options(\"\"\"\n",
    "{\n",
    "  \"nodes\": {\n",
    "    \"borderWidth\": 10\n",
    "  },\n",
    "  \"edges\": {\n",
    "    \"color\": {\n",
    "      \"inherit\": true\n",
    "    },\n",
    "    \"smooth\": false\n",
    "  },\n",
    "  \"physics\": {\n",
    "    \"barnesHut\": {\n",
    "      \"gravitationalConstant\": -80000,\n",
    "      \"springLength\": 250,\n",
    "      \"springConstant\": 0.001\n",
    "    },\n",
    "    \"minVelocity\": 0.75\n",
    "  }\n",
    "}\n",
    "\"\"\")"
   ]
  },
  {
   "cell_type": "code",
   "execution_count": 52,
   "metadata": {
    "slideshow": {
     "slide_type": "slide"
    }
   },
   "outputs": [],
   "source": [
    "got_net.show(\"tarea3_tuneada.html\")"
   ]
  },
  {
   "cell_type": "markdown",
   "metadata": {
    "slideshow": {
     "slide_type": "slide"
    }
   },
   "source": [
    "# Offtopics:\n",
    "- networkx para analizar grafos\n",
    "- zip como cremallera muy utilizado.\n",
    "- recomiendo leer itertools para aprender más sobre iteradores y listas en python"
   ]
  }
 ],
 "metadata": {
  "celltoolbar": "Slideshow",
  "kernelspec": {
   "display_name": "Python 3",
   "language": "python",
   "name": "python3"
  },
  "language_info": {
   "codemirror_mode": {
    "name": "ipython",
    "version": 3
   },
   "file_extension": ".py",
   "mimetype": "text/x-python",
   "name": "python",
   "nbconvert_exporter": "python",
   "pygments_lexer": "ipython3",
   "version": "3.8.8"
  }
 },
 "nbformat": 4,
 "nbformat_minor": 2
}
